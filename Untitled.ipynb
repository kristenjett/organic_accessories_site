{
 "cells": [
  {
   "cell_type": "code",
   "execution_count": 9,
   "metadata": {},
   "outputs": [
    {
     "data": {
      "text/plain": [
       "'+-------+-----+\\n| Name  | Age |\\n+=======+=====+\\n| Alice | 24  |\\n+-------+-----+\\n| Bob   | 19  |\\n+-------+-----+'"
      ]
     },
     "execution_count": 9,
     "metadata": {},
     "output_type": "execute_result"
    }
   ],
   "source": [
    "from texttable import Texttable\n",
    "t = Texttable()\n",
    "t.add_rows([['Name', 'Age'], ['Alice', 24], ['Bob', 19]])\n",
    "print9t.draw()"
   ]
  },
  {
   "cell_type": "code",
   "execution_count": 62,
   "metadata": {},
   "outputs": [
    {
     "name": "stdout",
     "output_type": "stream",
     "text": [
      "1.) Post 0          2.) Post 1          3.) Post 2          4.) Post 3          5.) Post 4          6.) Post 5          \n",
      "7.) Post 6          8.) Post 7          9.) Post 8          10.) Post 9         11.) Post 10        12.) Post 11        \n",
      "13.) Post 12        14.) Post 13        15.) Post 14        16.) Post 15        17.) Post 16        18.) Post 17        \n",
      "19.) Post 18        20.) Post 19        \n"
     ]
    }
   ],
   "source": [
    "mylist =[]\n",
    "\n",
    "for i in range(20):\n",
    "    mylist.append('Post '+str(i))\n",
    "\n",
    "post_out = ''\n",
    "counter = 1\n",
    "for each in mylist:\n",
    "    new_element = str(counter)+'.) ' + each\n",
    "    new_element = new_element + ''.join([' ']*(20-len(new_element)))\n",
    "    post_out = post_out+new_element\n",
    "    if counter %6 == 0:\n",
    "        post_out = post_out+'\\n'\n",
    "    counter = counter+1\n",
    "    \n",
    "print(post_out)"
   ]
  },
  {
   "cell_type": "code",
   "execution_count": 59,
   "metadata": {},
   "outputs": [
    {
     "name": "stdout",
     "output_type": "stream",
     "text": [
      "1.) Post 0      2.) Post 1      3.) Post 2      4.) Post 3      \n",
      "5.) Post 4      6.) Post 5      7.) Post 6      8.) Post 7      \n",
      "9.) Post 8      10.) Post 9      11.) Post 10      12.) Post 11      \n",
      "13.) Post 12      14.) Post 13      15.) Post 14      16.) Post 15      \n",
      "17.) Post 16      18.) Post 17      19.) Post 18      20.) Post 19      \n",
      "\n"
     ]
    }
   ],
   "source": [
    "mylist =[]\n",
    "\n",
    "for i in range(20):\n",
    "    mylist.append('Post '+str(i))\n",
    "    \n",
    "post_out = ''\n",
    "counter = 1\n",
    "for each in mylist:\n",
    "    post_out = post_out+str(counter)+'.) ' + each + '      '\n",
    "    if counter %4 == 0:\n",
    "        post_out = post_out+'\\n'\n",
    "    counter = counter+1\n",
    "        \n",
    "print(post_out)\n",
    "        "
   ]
  },
  {
   "cell_type": "code",
   "execution_count": 58,
   "metadata": {},
   "outputs": [
    {
     "name": "stdout",
     "output_type": "stream",
     "text": [
      "+---------------+---------------+---------------+---------------+---------------+\n",
      "|abcdefghijklmno|abcdefghijklmno|abcdefghijklmno|abcdefghijklmno|abcdefghijklmno|\n",
      "+---------------+---------------+---------------+---------------+---------------+\n",
      "|data 1         |         data 2|    data 3     |data 5         |data 9         |\n",
      "+---------------+---------------+---------------+---------------+---------------+\n",
      "|data 4         |         data 5|    data 6     |dd             |dd             |\n",
      "+_______________+_______________+_______________+_______________+_______________+\n",
      "\n"
     ]
    }
   ],
   "source": [
    "\n",
    "from texttables import Dialect\n",
    "from texttables.dynamic import writer\n",
    "from sys import stdout\n",
    "import io\n",
    "# Create a pseudo file to house the table\n",
    "# import StringIO\n",
    "post_tbl = io.StringIO()\n",
    "\n",
    "class dialect(Dialect):\n",
    "    header_delimiter = '-'\n",
    "    row_delimiter = '-'\n",
    "    top_border = '-'\n",
    "    bottom_border = '_'\n",
    "    left_border = '|'\n",
    "    cell_delimiter = '|'\n",
    "    right_border = '|'\n",
    "    corner_border = '+'\n",
    "    \n",
    "with writer(post_tbl, ['', '>', '^', '', '', '', ''], dialect=dialect) as w:\n",
    "    w.writeheader(('abcdefghijklmno', 'abcdefghijklmno', 'abcdefghijklmno', 'abcdefghijklmno', 'abcdefghijklmno'))\n",
    "#     w.writerows([mylist[0:5]])\n",
    "    w.writerows([('data 1', 'data 2', 'data 3', 'data 5', 'data 9'),('data 4', 'data 5', 'data 6', 'dd', 'dd')])\n",
    "#     w.writerow(mylist[3:6])\n",
    "#     w.writerow(mylist[6:9])\n",
    "print(post_tbl.getvalue())"
   ]
  }
 ],
 "metadata": {
  "kernelspec": {
   "display_name": "org_access",
   "language": "python",
   "name": "org_access"
  },
  "language_info": {
   "codemirror_mode": {
    "name": "ipython",
    "version": 3
   },
   "file_extension": ".py",
   "mimetype": "text/x-python",
   "name": "python",
   "nbconvert_exporter": "python",
   "pygments_lexer": "ipython3",
   "version": "3.6.6"
  }
 },
 "nbformat": 4,
 "nbformat_minor": 2
}
