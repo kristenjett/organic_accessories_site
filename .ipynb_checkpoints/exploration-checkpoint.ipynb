{
 "cells": [
  {
   "cell_type": "markdown",
   "metadata": {},
   "source": [
    "<h1> Experimentation with file modifications to create the .md file"
   ]
  },
  {
   "cell_type": "code",
   "execution_count": 15,
   "metadata": {},
   "outputs": [
    {
     "name": "stdout",
     "output_type": "stream",
     "text": [
      "2018-12-26\n"
     ]
    }
   ],
   "source": [
    "post_name = 'tester'\n",
    "post_blurb = 'Issa post blurb'\n",
    "from datetime import datetime\n",
    "print(datetime.now().date())\n",
    "f = open('content/home/'+post_name+'.md', 'w+')\n",
    "f.write('+++\\n')\n",
    "f.write('draft = false\\n')\n",
    "f.write('image = \"static/img/home/'+post_name+'\"\\n')\n",
    "f.write(\"showonlyimage = false\\n\")\n",
    "f.write('date = \"'+str(datetime.now().date())+'\"\\n')\n",
    "f.write('Title = \"'+post_name.replace('_', ' ')+'\"\\n')\n",
    "f.write('weight = 1\\n') # All posts are written with weight 1; This can be changed if desired\n",
    "f.write('+++\\n\\n')\n",
    "f.write(post_blurb+ '\\n\\n')\n",
    "f.close()\n",
    "# Below is a copy of a template header for the markdown file\n",
    "# +++\n",
    "# draft = false\n",
    "# image = \"img/home/blu_pepper.jpg\"\n",
    "# showonlyimage = true\n",
    "# date = \"2018-11-20T19:50:47+05:30\"\n",
    "# title = \"Hoodie from Blu Pepper\"\n",
    "# weight = 2'\n",
    "# +++"
   ]
  },
  {
   "cell_type": "markdown",
   "metadata": {},
   "source": [
    "<h1>Experimentation with Data Tables"
   ]
  },
  {
   "cell_type": "code",
   "execution_count": 1,
   "metadata": {},
   "outputs": [
    {
     "name": "stdout",
     "output_type": "stream",
     "text": [
      "1.) post one    2.) post two    3.) post three    4.) post four    \n"
     ]
    }
   ],
   "source": [
    "import numpy as np\n",
    "post_list = ['post one', 'post two', 'post three', 'post four']\n",
    "counter=1\n",
    "output = ''\n",
    "for post in post_list:\n",
    "    output+=str(counter)+'.) '+post + '    '\n",
    "    counter=counter+1\n",
    "    \n",
    "print(output)\n",
    "\n"
   ]
  },
  {
   "cell_type": "code",
   "execution_count": 3,
   "metadata": {},
   "outputs": [
    {
     "ename": "ModuleNotFoundError",
     "evalue": "No module named 'texttable'",
     "output_type": "error",
     "traceback": [
      "\u001b[0;31m---------------------------------------------------------------------------\u001b[0m",
      "\u001b[0;31mModuleNotFoundError\u001b[0m                       Traceback (most recent call last)",
      "\u001b[0;32m<ipython-input-3-062c48ede450>\u001b[0m in \u001b[0;36m<module>\u001b[0;34m()\u001b[0m\n\u001b[0;32m----> 1\u001b[0;31m \u001b[0;32mfrom\u001b[0m \u001b[0mtexttable\u001b[0m \u001b[0;32mimport\u001b[0m \u001b[0mTexttable\u001b[0m\u001b[0;34m\u001b[0m\u001b[0m\n\u001b[0m\u001b[1;32m      2\u001b[0m \u001b[0mt\u001b[0m \u001b[0;34m=\u001b[0m \u001b[0mTexttable\u001b[0m\u001b[0;34m(\u001b[0m\u001b[0;34m)\u001b[0m\u001b[0;34m\u001b[0m\u001b[0m\n\u001b[1;32m      3\u001b[0m \u001b[0mt\u001b[0m\u001b[0;34m.\u001b[0m\u001b[0madd_rows\u001b[0m\u001b[0;34m(\u001b[0m\u001b[0;34m[\u001b[0m\u001b[0;34m[\u001b[0m\u001b[0;34m'Name'\u001b[0m\u001b[0;34m,\u001b[0m \u001b[0;34m'Age'\u001b[0m\u001b[0;34m]\u001b[0m\u001b[0;34m,\u001b[0m \u001b[0;34m[\u001b[0m\u001b[0;34m'Alice'\u001b[0m\u001b[0;34m,\u001b[0m \u001b[0;36m24\u001b[0m\u001b[0;34m]\u001b[0m\u001b[0;34m,\u001b[0m \u001b[0;34m[\u001b[0m\u001b[0;34m'Bob'\u001b[0m\u001b[0;34m,\u001b[0m \u001b[0;36m19\u001b[0m\u001b[0;34m]\u001b[0m\u001b[0;34m]\u001b[0m\u001b[0;34m)\u001b[0m\u001b[0;34m\u001b[0m\u001b[0m\n\u001b[1;32m      4\u001b[0m \u001b[0mt\u001b[0m\u001b[0;34m.\u001b[0m\u001b[0mdraw\u001b[0m\u001b[0;34m(\u001b[0m\u001b[0;34m)\u001b[0m\u001b[0;34m\u001b[0m\u001b[0m\n",
      "\u001b[0;31mModuleNotFoundError\u001b[0m: No module named 'texttable'"
     ]
    }
   ],
   "source": [
    "from texttable import Texttable\n",
    "t = Texttable()\n",
    "t.add_rows([['Name', 'Age'], ['Alice', 24], ['Bob', 19]])\n",
    "t.draw()"
   ]
  },
  {
   "cell_type": "code",
   "execution_count": 9,
   "metadata": {},
   "outputs": [
    {
     "data": {
      "text/plain": [
       "'+-------+-----+\\n| Name  | Age |\\n+=======+=====+\\n| Alice | 24  |\\n+-------+-----+\\n| Bob   | 19  |\\n+-------+-----+'"
      ]
     },
     "execution_count": 9,
     "metadata": {},
     "output_type": "execute_result"
    }
   ],
   "source": [
    "from texttable import Texttable\n",
    "t = Texttable()\n",
    "t.add_rows([['Name', 'Age'], ['Alice', 24], ['Bob', 19]])\n",
    "print9t.draw()"
   ]
  },
  {
   "cell_type": "code",
   "execution_count": 62,
   "metadata": {},
   "outputs": [
    {
     "name": "stdout",
     "output_type": "stream",
     "text": [
      "1.) Post 0          2.) Post 1          3.) Post 2          4.) Post 3          5.) Post 4          6.) Post 5          \n",
      "7.) Post 6          8.) Post 7          9.) Post 8          10.) Post 9         11.) Post 10        12.) Post 11        \n",
      "13.) Post 12        14.) Post 13        15.) Post 14        16.) Post 15        17.) Post 16        18.) Post 17        \n",
      "19.) Post 18        20.) Post 19        \n"
     ]
    }
   ],
   "source": [
    "mylist =[]\n",
    "\n",
    "for i in range(20):\n",
    "    mylist.append('Post '+str(i))\n",
    "\n",
    "post_out = ''\n",
    "counter = 1\n",
    "for each in mylist:\n",
    "    new_element = str(counter)+'.) ' + each\n",
    "    new_element = new_element + ''.join([' ']*(20-len(new_element)))\n",
    "    post_out = post_out+new_element\n",
    "    if counter %6 == 0:\n",
    "        post_out = post_out+'\\n'\n",
    "    counter = counter+1\n",
    "    \n",
    "print(post_out)"
   ]
  },
  {
   "cell_type": "code",
   "execution_count": 59,
   "metadata": {},
   "outputs": [
    {
     "name": "stdout",
     "output_type": "stream",
     "text": [
      "1.) Post 0      2.) Post 1      3.) Post 2      4.) Post 3      \n",
      "5.) Post 4      6.) Post 5      7.) Post 6      8.) Post 7      \n",
      "9.) Post 8      10.) Post 9      11.) Post 10      12.) Post 11      \n",
      "13.) Post 12      14.) Post 13      15.) Post 14      16.) Post 15      \n",
      "17.) Post 16      18.) Post 17      19.) Post 18      20.) Post 19      \n",
      "\n"
     ]
    }
   ],
   "source": [
    "mylist =[]\n",
    "\n",
    "for i in range(20):\n",
    "    mylist.append('Post '+str(i))\n",
    "    \n",
    "post_out = ''\n",
    "counter = 1\n",
    "for each in mylist:\n",
    "    post_out = post_out+str(counter)+'.) ' + each + '      '\n",
    "    if counter %4 == 0:\n",
    "        post_out = post_out+'\\n'\n",
    "    counter = counter+1\n",
    "        \n",
    "print(post_out)\n",
    "        "
   ]
  },
  {
   "cell_type": "code",
   "execution_count": 58,
   "metadata": {},
   "outputs": [
    {
     "name": "stdout",
     "output_type": "stream",
     "text": [
      "+---------------+---------------+---------------+---------------+---------------+\n",
      "|abcdefghijklmno|abcdefghijklmno|abcdefghijklmno|abcdefghijklmno|abcdefghijklmno|\n",
      "+---------------+---------------+---------------+---------------+---------------+\n",
      "|data 1         |         data 2|    data 3     |data 5         |data 9         |\n",
      "+---------------+---------------+---------------+---------------+---------------+\n",
      "|data 4         |         data 5|    data 6     |dd             |dd             |\n",
      "+_______________+_______________+_______________+_______________+_______________+\n",
      "\n"
     ]
    }
   ],
   "source": [
    "\n",
    "from texttables import Dialect\n",
    "from texttables.dynamic import writer\n",
    "from sys import stdout\n",
    "import io\n",
    "# Create a pseudo file to house the table\n",
    "# import StringIO\n",
    "post_tbl = io.StringIO()\n",
    "\n",
    "class dialect(Dialect):\n",
    "    header_delimiter = '-'\n",
    "    row_delimiter = '-'\n",
    "    top_border = '-'\n",
    "    bottom_border = '_'\n",
    "    left_border = '|'\n",
    "    cell_delimiter = '|'\n",
    "    right_border = '|'\n",
    "    corner_border = '+'\n",
    "    \n",
    "with writer(post_tbl, ['', '>', '^', '', '', '', ''], dialect=dialect) as w:\n",
    "    w.writeheader(('abcdefghijklmno', 'abcdefghijklmno', 'abcdefghijklmno', 'abcdefghijklmno', 'abcdefghijklmno'))\n",
    "#     w.writerows([mylist[0:5]])\n",
    "    w.writerows([('data 1', 'data 2', 'data 3', 'data 5', 'data 9'),('data 4', 'data 5', 'data 6', 'dd', 'dd')])\n",
    "#     w.writerow(mylist[3:6])\n",
    "#     w.writerow(mylist[6:9])\n",
    "print(post_tbl.getvalue())"
   ]
  }
 ],
 "metadata": {
  "kernelspec": {
   "display_name": "Python 3",
   "language": "python",
   "name": "python3"
  },
  "language_info": {
   "codemirror_mode": {
    "name": "ipython",
    "version": 3
   },
   "file_extension": ".py",
   "mimetype": "text/x-python",
   "name": "python",
   "nbconvert_exporter": "python",
   "pygments_lexer": "ipython3",
   "version": "3.6.6"
  }
 },
 "nbformat": 4,
 "nbformat_minor": 2
}
