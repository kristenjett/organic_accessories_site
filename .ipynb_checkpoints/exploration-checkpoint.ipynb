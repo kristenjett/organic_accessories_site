{
 "cells": [
  {
   "cell_type": "code",
   "execution_count": 1,
   "metadata": {},
   "outputs": [],
   "source": [
    "import numpy as np\n",
    "post_list = ['post one', 'post two', 'post three', 'post four']\n",
    "counter=0\n",
    "output = ''\n",
    "for post in post_list:\n",
    "    output.append(str(counter)+'.) ')\n",
    "    output.append(post)\n",
    "    output.append('  | ')\n",
    "    output\n",
    "    counter=counter+1\n",
    "    \n",
    "\n"
   ]
  }
 ],
 "metadata": {
  "kernelspec": {
   "display_name": "Python 3",
   "language": "python",
   "name": "python3"
  },
  "language_info": {
   "codemirror_mode": {
    "name": "ipython",
    "version": 3
   },
   "file_extension": ".py",
   "mimetype": "text/x-python",
   "name": "python",
   "nbconvert_exporter": "python",
   "pygments_lexer": "ipython3",
   "version": "3.6.6"
  }
 },
 "nbformat": 4,
 "nbformat_minor": 2
}
