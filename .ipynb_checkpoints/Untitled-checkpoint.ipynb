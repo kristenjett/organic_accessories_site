{
 "cells": [
  {
   "cell_type": "code",
   "execution_count": 9,
   "metadata": {},
   "outputs": [
    {
     "data": {
      "text/plain": [
       "'+-------+-----+\\n| Name  | Age |\\n+=======+=====+\\n| Alice | 24  |\\n+-------+-----+\\n| Bob   | 19  |\\n+-------+-----+'"
      ]
     },
     "execution_count": 9,
     "metadata": {},
     "output_type": "execute_result"
    }
   ],
   "source": [
    "from texttable import Texttable\n",
    "t = Texttable()\n",
    "t.add_rows([['Name', 'Age'], ['Alice', 24], ['Bob', 19]])\n",
    "print9t.draw()"
   ]
  },
  {
   "cell_type": "code",
   "execution_count": 25,
   "metadata": {},
   "outputs": [],
   "source": [
    "mylist =[]\n",
    "\n",
    "for i in range(20):\n",
    "    mylist.append('Post '+str(i))\n",
    "    \n",
    "post_out = ''\n",
    "counter = 1\n",
    "for each in mylist:\n",
    "    post_out = post_out+str(counter)+'.) ' + each + '      '\n",
    "    counter = counter+1\n",
    "    if counter %4 == 0:\n",
    "        post_out = post_out+'\\n'\n",
    "        "
   ]
  },
  {
   "cell_type": "code",
   "execution_count": 58,
   "metadata": {},
   "outputs": [
    {
     "name": "stdout",
     "output_type": "stream",
     "text": [
      "+---------------+---------------+---------------+---------------+---------------+\n",
      "|abcdefghijklmno|abcdefghijklmno|abcdefghijklmno|abcdefghijklmno|abcdefghijklmno|\n",
      "+---------------+---------------+---------------+---------------+---------------+\n",
      "|data 1         |         data 2|    data 3     |data 5         |data 9         |\n",
      "+---------------+---------------+---------------+---------------+---------------+\n",
      "|data 4         |         data 5|    data 6     |dd             |dd             |\n",
      "+_______________+_______________+_______________+_______________+_______________+\n",
      "\n"
     ]
    }
   ],
   "source": [
    "\n",
    "from texttables import Dialect\n",
    "from texttables.dynamic import writer\n",
    "from sys import stdout\n",
    "import io\n",
    "# Create a pseudo file to house the table\n",
    "# import StringIO\n",
    "post_tbl = io.StringIO()\n",
    "\n",
    "class dialect(Dialect):\n",
    "    header_delimiter = '-'\n",
    "    row_delimiter = '-'\n",
    "    top_border = '-'\n",
    "    bottom_border = '_'\n",
    "    left_border = '|'\n",
    "    cell_delimiter = '|'\n",
    "    right_border = '|'\n",
    "    corner_border = '+'\n",
    "    \n",
    "with writer(post_tbl, ['', '>', '^', '', '', '', ''], dialect=dialect) as w:\n",
    "    w.writeheader(('abcdefghijklmno', 'abcdefghijklmno', 'abcdefghijklmno', 'abcdefghijklmno', 'abcdefghijklmno'))\n",
    "#     w.writerows([mylist[0:5]])\n",
    "    w.writerows([('data 1', 'data 2', 'data 3', 'data 5', 'data 9'),('data 4', 'data 5', 'data 6', 'dd', 'dd')])\n",
    "#     w.writerow(mylist[3:6])\n",
    "#     w.writerow(mylist[6:9])\n",
    "print(post_tbl.getvalue())"
   ]
  }
 ],
 "metadata": {
  "kernelspec": {
   "display_name": "org_access",
   "language": "python",
   "name": "org_access"
  },
  "language_info": {
   "codemirror_mode": {
    "name": "ipython",
    "version": 3
   },
   "file_extension": ".py",
   "mimetype": "text/x-python",
   "name": "python",
   "nbconvert_exporter": "python",
   "pygments_lexer": "ipython3",
   "version": "3.6.6"
  }
 },
 "nbformat": 4,
 "nbformat_minor": 2
}
